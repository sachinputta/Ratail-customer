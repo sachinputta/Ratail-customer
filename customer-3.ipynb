{
 "cells": [
  {
   "cell_type": "code",
   "execution_count": 345,
   "metadata": {},
   "outputs": [],
   "source": [
    "import pandas as pd\n",
    "import numpy as np \n",
    "import scipy as sp\n",
    "import matplotlib.pyplot as plt"
   ]
  },
  {
   "cell_type": "code",
   "execution_count": 346,
   "metadata": {},
   "outputs": [],
   "source": [
    "df = pd.read_csv('Customer_Buying_Patterns.csv')"
   ]
  },
  {
   "cell_type": "code",
   "execution_count": 347,
   "metadata": {},
   "outputs": [
    {
     "data": {
      "text/html": [
       "<div>\n",
       "<style scoped>\n",
       "    .dataframe tbody tr th:only-of-type {\n",
       "        vertical-align: middle;\n",
       "    }\n",
       "\n",
       "    .dataframe tbody tr th {\n",
       "        vertical-align: top;\n",
       "    }\n",
       "\n",
       "    .dataframe thead th {\n",
       "        text-align: right;\n",
       "    }\n",
       "</style>\n",
       "<table border=\"1\" class=\"dataframe\">\n",
       "  <thead>\n",
       "    <tr style=\"text-align: right;\">\n",
       "      <th></th>\n",
       "      <th>CustomerMobileNo</th>\n",
       "      <th>BillNo</th>\n",
       "      <th>BillDate</th>\n",
       "      <th>CategoryName</th>\n",
       "      <th>ProductName</th>\n",
       "      <th>Qty</th>\n",
       "      <th>MRP</th>\n",
       "      <th>Discount</th>\n",
       "      <th>Amount</th>\n",
       "    </tr>\n",
       "  </thead>\n",
       "  <tbody>\n",
       "    <tr>\n",
       "      <th>0</th>\n",
       "      <td>6263895415</td>\n",
       "      <td>18122200036</td>\n",
       "      <td>22-12-2018</td>\n",
       "      <td>BISCUITS / CAKE / CHIPS / SNAKS</td>\n",
       "      <td>BRITANNIA CAKE PINEAPPLE PLUNGE 15RS</td>\n",
       "      <td>2</td>\n",
       "      <td>15.0</td>\n",
       "      <td>0.00</td>\n",
       "      <td>30.00</td>\n",
       "    </tr>\n",
       "    <tr>\n",
       "      <th>1</th>\n",
       "      <td>6263895415</td>\n",
       "      <td>18122200036</td>\n",
       "      <td>22-12-2018</td>\n",
       "      <td>BISCUITS / CAKE / CHIPS / SNAKS</td>\n",
       "      <td>LAYS SPANISH TOMATO TANGO 10</td>\n",
       "      <td>1</td>\n",
       "      <td>10.0</td>\n",
       "      <td>0.05</td>\n",
       "      <td>9.95</td>\n",
       "    </tr>\n",
       "    <tr>\n",
       "      <th>2</th>\n",
       "      <td>6263895415</td>\n",
       "      <td>18122200036</td>\n",
       "      <td>22-12-2018</td>\n",
       "      <td>COOL DRINKS / FRUIT JUICES / MILK SHAKES  / SA...</td>\n",
       "      <td>STING</td>\n",
       "      <td>2</td>\n",
       "      <td>30.0</td>\n",
       "      <td>3.00</td>\n",
       "      <td>57.00</td>\n",
       "    </tr>\n",
       "    <tr>\n",
       "      <th>3</th>\n",
       "      <td>6281123186</td>\n",
       "      <td>19021600010</td>\n",
       "      <td>16-02-2019</td>\n",
       "      <td>ROOM FRESHENER</td>\n",
       "      <td>GLADE WILD LAVENDER 300 ML</td>\n",
       "      <td>1</td>\n",
       "      <td>150.0</td>\n",
       "      <td>3.00</td>\n",
       "      <td>147.00</td>\n",
       "    </tr>\n",
       "    <tr>\n",
       "      <th>4</th>\n",
       "      <td>6300037707</td>\n",
       "      <td>18112600011</td>\n",
       "      <td>26-11-2018</td>\n",
       "      <td>BISCUITS / CAKE / CHIPS / SNAKS</td>\n",
       "      <td>GOOD DAY 5</td>\n",
       "      <td>1</td>\n",
       "      <td>5.0</td>\n",
       "      <td>0.20</td>\n",
       "      <td>4.80</td>\n",
       "    </tr>\n",
       "  </tbody>\n",
       "</table>\n",
       "</div>"
      ],
      "text/plain": [
       "   CustomerMobileNo       BillNo    BillDate  \\\n",
       "0        6263895415  18122200036  22-12-2018   \n",
       "1        6263895415  18122200036  22-12-2018   \n",
       "2        6263895415  18122200036  22-12-2018   \n",
       "3        6281123186  19021600010  16-02-2019   \n",
       "4        6300037707  18112600011  26-11-2018   \n",
       "\n",
       "                                        CategoryName  \\\n",
       "0                    BISCUITS / CAKE / CHIPS / SNAKS   \n",
       "1                    BISCUITS / CAKE / CHIPS / SNAKS   \n",
       "2  COOL DRINKS / FRUIT JUICES / MILK SHAKES  / SA...   \n",
       "3                                     ROOM FRESHENER   \n",
       "4                    BISCUITS / CAKE / CHIPS / SNAKS   \n",
       "\n",
       "                            ProductName  Qty    MRP  Discount  Amount  \n",
       "0  BRITANNIA CAKE PINEAPPLE PLUNGE 15RS    2   15.0      0.00   30.00  \n",
       "1          LAYS SPANISH TOMATO TANGO 10    1   10.0      0.05    9.95  \n",
       "2                                 STING    2   30.0      3.00   57.00  \n",
       "3            GLADE WILD LAVENDER 300 ML    1  150.0      3.00  147.00  \n",
       "4                            GOOD DAY 5    1    5.0      0.20    4.80  "
      ]
     },
     "execution_count": 347,
     "metadata": {},
     "output_type": "execute_result"
    }
   ],
   "source": [
    "df.head()"
   ]
  },
  {
   "cell_type": "code",
   "execution_count": 348,
   "metadata": {},
   "outputs": [
    {
     "data": {
      "text/plain": [
       "BISCUITS / CAKE / CHIPS / SNAKS                         1447\n",
       "CHOCOLATE                                               1265\n",
       "COOL DRINKS / FRUIT JUICES / MILK SHAKES  / SARBATHS     722\n",
       "SPICES                                                   413\n",
       "KIRANA                                                   395\n",
       "Name: CategoryName, dtype: int64"
      ]
     },
     "execution_count": 348,
     "metadata": {},
     "output_type": "execute_result"
    }
   ],
   "source": [
    "df[\"CategoryName\"].value_counts().head(5)"
   ]
  },
  {
   "cell_type": "code",
   "execution_count": null,
   "metadata": {},
   "outputs": [],
   "source": []
  },
  {
   "cell_type": "code",
   "execution_count": 349,
   "metadata": {},
   "outputs": [],
   "source": [
    "df['ProductName'] = df['ProductName'].astype(\"category\")"
   ]
  },
  {
   "cell_type": "code",
   "execution_count": 350,
   "metadata": {},
   "outputs": [],
   "source": [
    "df['ProductName'] = df['ProductName'].cat.codes"
   ]
  },
  {
   "cell_type": "code",
   "execution_count": 351,
   "metadata": {},
   "outputs": [],
   "source": [
    "df['ProductName'] = df['ProductName'].astype(int)"
   ]
  },
  {
   "cell_type": "code",
   "execution_count": 352,
   "metadata": {},
   "outputs": [],
   "source": [
    "df['CategoryName'] = df['CategoryName'].astype(\"category\")"
   ]
  },
  {
   "cell_type": "code",
   "execution_count": 353,
   "metadata": {},
   "outputs": [],
   "source": [
    "df['CategoryName'] = df['CategoryName'].cat.codes"
   ]
  },
  {
   "cell_type": "code",
   "execution_count": 354,
   "metadata": {},
   "outputs": [],
   "source": [
    "df['CategoryName'] = df['CategoryName'].astype(int)"
   ]
  },
  {
   "cell_type": "code",
   "execution_count": 355,
   "metadata": {},
   "outputs": [],
   "source": [
    "df['BillDate'] = df['BillDate'].astype(\"category\")\n",
    "df['BillDate'] = df['BillDate'].cat.codes\n",
    "df['BillDate'] = df['BillDate'].astype(int)"
   ]
  },
  {
   "cell_type": "code",
   "execution_count": 356,
   "metadata": {},
   "outputs": [
    {
     "data": {
      "text/plain": [
       "CustomerMobileNo      int64\n",
       "BillNo                int64\n",
       "BillDate              int64\n",
       "CategoryName          int64\n",
       "ProductName           int64\n",
       "Qty                   int64\n",
       "MRP                 float64\n",
       "Discount            float64\n",
       "Amount              float64\n",
       "dtype: object"
      ]
     },
     "execution_count": 356,
     "metadata": {},
     "output_type": "execute_result"
    }
   ],
   "source": [
    "df.dtypes"
   ]
  },
  {
   "cell_type": "code",
   "execution_count": 357,
   "metadata": {},
   "outputs": [
    {
     "name": "stdout",
     "output_type": "stream",
     "text": [
      "[1.37837076 0.9592871  0.2910559  1.00257706 1.0440249 ]\n"
     ]
    }
   ],
   "source": [
    "from scipy import stats\n",
    "zscore = np.abs(stats.zscore(df[\"CategoryName\"].value_counts().head(5)))\n",
    "print(zscore)"
   ]
  },
  {
   "cell_type": "code",
   "execution_count": 358,
   "metadata": {},
   "outputs": [
    {
     "name": "stdout",
     "output_type": "stream",
     "text": [
      "(array([], dtype=int64),)\n"
     ]
    }
   ],
   "source": [
    "threshold = 3\n",
    "print(np.where(zscore > 3))"
   ]
  },
  {
   "cell_type": "code",
   "execution_count": 359,
   "metadata": {},
   "outputs": [
    {
     "name": "stdout",
     "output_type": "stream",
     "text": [
      "1.0440248978182773\n"
     ]
    }
   ],
   "source": [
    "print(zscore[4])"
   ]
  },
  {
   "cell_type": "code",
   "execution_count": null,
   "metadata": {},
   "outputs": [],
   "source": []
  },
  {
   "cell_type": "code",
   "execution_count": 360,
   "metadata": {},
   "outputs": [],
   "source": [
    "x = df[\"CategoryName\"].value_counts().head(5)"
   ]
  },
  {
   "cell_type": "code",
   "execution_count": 361,
   "metadata": {},
   "outputs": [
    {
     "data": {
      "text/plain": [
       "1     1447\n",
       "2     1265\n",
       "4      722\n",
       "33     413\n",
       "16     395\n",
       "Name: CategoryName, dtype: int64"
      ]
     },
     "execution_count": 361,
     "metadata": {},
     "output_type": "execute_result"
    }
   ],
   "source": [
    "x"
   ]
  },
  {
   "cell_type": "code",
   "execution_count": 362,
   "metadata": {},
   "outputs": [
    {
     "data": {
      "text/html": [
       "<div>\n",
       "<style scoped>\n",
       "    .dataframe tbody tr th:only-of-type {\n",
       "        vertical-align: middle;\n",
       "    }\n",
       "\n",
       "    .dataframe tbody tr th {\n",
       "        vertical-align: top;\n",
       "    }\n",
       "\n",
       "    .dataframe thead th {\n",
       "        text-align: right;\n",
       "    }\n",
       "</style>\n",
       "<table border=\"1\" class=\"dataframe\">\n",
       "  <thead>\n",
       "    <tr style=\"text-align: right;\">\n",
       "      <th></th>\n",
       "      <th>CustomerMobileNo</th>\n",
       "      <th>BillNo</th>\n",
       "      <th>BillDate</th>\n",
       "      <th>CategoryName</th>\n",
       "      <th>ProductName</th>\n",
       "      <th>Qty</th>\n",
       "      <th>MRP</th>\n",
       "      <th>Discount</th>\n",
       "      <th>Amount</th>\n",
       "    </tr>\n",
       "  </thead>\n",
       "  <tbody>\n",
       "    <tr>\n",
       "      <th>0</th>\n",
       "      <td>6263895415</td>\n",
       "      <td>18122200036</td>\n",
       "      <td>96</td>\n",
       "      <td>1</td>\n",
       "      <td>237</td>\n",
       "      <td>2</td>\n",
       "      <td>15.0</td>\n",
       "      <td>0.00</td>\n",
       "      <td>30.00</td>\n",
       "    </tr>\n",
       "    <tr>\n",
       "      <th>1</th>\n",
       "      <td>6263895415</td>\n",
       "      <td>18122200036</td>\n",
       "      <td>96</td>\n",
       "      <td>1</td>\n",
       "      <td>917</td>\n",
       "      <td>1</td>\n",
       "      <td>10.0</td>\n",
       "      <td>0.05</td>\n",
       "      <td>9.95</td>\n",
       "    </tr>\n",
       "    <tr>\n",
       "      <th>2</th>\n",
       "      <td>6263895415</td>\n",
       "      <td>18122200036</td>\n",
       "      <td>96</td>\n",
       "      <td>4</td>\n",
       "      <td>1514</td>\n",
       "      <td>2</td>\n",
       "      <td>30.0</td>\n",
       "      <td>3.00</td>\n",
       "      <td>57.00</td>\n",
       "    </tr>\n",
       "    <tr>\n",
       "      <th>3</th>\n",
       "      <td>6281123186</td>\n",
       "      <td>19021600010</td>\n",
       "      <td>66</td>\n",
       "      <td>28</td>\n",
       "      <td>657</td>\n",
       "      <td>1</td>\n",
       "      <td>150.0</td>\n",
       "      <td>3.00</td>\n",
       "      <td>147.00</td>\n",
       "    </tr>\n",
       "    <tr>\n",
       "      <th>4</th>\n",
       "      <td>6300037707</td>\n",
       "      <td>18112600011</td>\n",
       "      <td>111</td>\n",
       "      <td>1</td>\n",
       "      <td>674</td>\n",
       "      <td>1</td>\n",
       "      <td>5.0</td>\n",
       "      <td>0.20</td>\n",
       "      <td>4.80</td>\n",
       "    </tr>\n",
       "  </tbody>\n",
       "</table>\n",
       "</div>"
      ],
      "text/plain": [
       "   CustomerMobileNo       BillNo  BillDate  CategoryName  ProductName  Qty  \\\n",
       "0        6263895415  18122200036        96             1          237    2   \n",
       "1        6263895415  18122200036        96             1          917    1   \n",
       "2        6263895415  18122200036        96             4         1514    2   \n",
       "3        6281123186  19021600010        66            28          657    1   \n",
       "4        6300037707  18112600011       111             1          674    1   \n",
       "\n",
       "     MRP  Discount  Amount  \n",
       "0   15.0      0.00   30.00  \n",
       "1   10.0      0.05    9.95  \n",
       "2   30.0      3.00   57.00  \n",
       "3  150.0      3.00  147.00  \n",
       "4    5.0      0.20    4.80  "
      ]
     },
     "execution_count": 362,
     "metadata": {},
     "output_type": "execute_result"
    }
   ],
   "source": [
    "df.head()"
   ]
  },
  {
   "cell_type": "code",
   "execution_count": 363,
   "metadata": {},
   "outputs": [],
   "source": [
    "y=df[\"CategoryName\"].unique()"
   ]
  },
  {
   "cell_type": "code",
   "execution_count": 364,
   "metadata": {},
   "outputs": [
    {
     "data": {
      "text/plain": [
       "array([ 1,  4, 28,  3, 27,  2,  6,  7,  9, 11, 19, 25, 29, 31, 39, 42, 40,\n",
       "       23, 33, 38, 17, 14, 30, 16, 32,  5, 10, 20, 13, 35, 18, 41, 15, 24,\n",
       "       21, 37, 12, 36, 26,  0, 34, 22,  8])"
      ]
     },
     "execution_count": 364,
     "metadata": {},
     "output_type": "execute_result"
    }
   ],
   "source": [
    "y"
   ]
  },
  {
   "cell_type": "code",
   "execution_count": 365,
   "metadata": {},
   "outputs": [
    {
     "data": {
      "text/plain": [
       "CustomerMobileNo      int64\n",
       "BillNo                int64\n",
       "BillDate              int64\n",
       "CategoryName          int64\n",
       "ProductName           int64\n",
       "Qty                   int64\n",
       "MRP                 float64\n",
       "Discount            float64\n",
       "Amount              float64\n",
       "dtype: object"
      ]
     },
     "execution_count": 365,
     "metadata": {},
     "output_type": "execute_result"
    }
   ],
   "source": [
    "df.dtypes"
   ]
  },
  {
   "cell_type": "code",
   "execution_count": 366,
   "metadata": {},
   "outputs": [
    {
     "data": {
      "text/plain": [
       "Discount            1.000000\n",
       "MRP                 0.642488\n",
       "Amount              0.627456\n",
       "BillNo              0.047691\n",
       "CategoryName        0.043303\n",
       "ProductName         0.038259\n",
       "Qty                 0.007544\n",
       "CustomerMobileNo   -0.000890\n",
       "BillDate           -0.004007\n",
       "Name: Discount, dtype: float64"
      ]
     },
     "execution_count": 366,
     "metadata": {},
     "output_type": "execute_result"
    }
   ],
   "source": [
    "df.corr()['Discount'].sort_values(ascending = False)"
   ]
  },
  {
   "cell_type": "code",
   "execution_count": null,
   "metadata": {},
   "outputs": [],
   "source": []
  },
  {
   "cell_type": "code",
   "execution_count": null,
   "metadata": {},
   "outputs": [],
   "source": []
  },
  {
   "cell_type": "code",
   "execution_count": null,
   "metadata": {},
   "outputs": [],
   "source": []
  },
  {
   "cell_type": "code",
   "execution_count": null,
   "metadata": {},
   "outputs": [],
   "source": []
  },
  {
   "cell_type": "code",
   "execution_count": null,
   "metadata": {},
   "outputs": [],
   "source": []
  },
  {
   "cell_type": "code",
   "execution_count": null,
   "metadata": {},
   "outputs": [],
   "source": []
  },
  {
   "cell_type": "code",
   "execution_count": null,
   "metadata": {},
   "outputs": [],
   "source": []
  },
  {
   "cell_type": "code",
   "execution_count": null,
   "metadata": {},
   "outputs": [],
   "source": []
  },
  {
   "cell_type": "code",
   "execution_count": null,
   "metadata": {},
   "outputs": [],
   "source": []
  },
  {
   "cell_type": "code",
   "execution_count": null,
   "metadata": {},
   "outputs": [],
   "source": []
  },
  {
   "cell_type": "code",
   "execution_count": null,
   "metadata": {},
   "outputs": [],
   "source": []
  },
  {
   "cell_type": "code",
   "execution_count": null,
   "metadata": {},
   "outputs": [],
   "source": []
  },
  {
   "cell_type": "code",
   "execution_count": null,
   "metadata": {},
   "outputs": [],
   "source": []
  }
 ],
 "metadata": {
  "kernelspec": {
   "display_name": "Python 2",
   "language": "python",
   "name": "python2"
  },
  "language_info": {
   "codemirror_mode": {
    "name": "ipython",
    "version": 2
   },
   "file_extension": ".py",
   "mimetype": "text/x-python",
   "name": "python",
   "nbconvert_exporter": "python",
   "pygments_lexer": "ipython2",
   "version": "2.7.15"
  }
 },
 "nbformat": 4,
 "nbformat_minor": 2
}
